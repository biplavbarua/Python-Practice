{
 "cells": [
  {
   "cell_type": "code",
   "execution_count": 1,
   "id": "da3f73ff",
   "metadata": {},
   "outputs": [
    {
     "name": "stdout",
     "output_type": "stream",
     "text": [
      "Chi2 = 12.70\n",
      "P-Value: 0.0017\n",
      "Reject the null hypothesis: The training had a significant effect on student perfomance\n"
     ]
    }
   ],
   "source": [
    "#Is there a relationship between Major and Preffered Programming Language?\n",
    "import scipy.stats as stats\n",
    "data = [[30, 19, 10], [10, 20, 20]]\n",
    "chi2, p, dof, expected = stats.chi2_contingency(data)\n",
    "\n",
    "print(f\"Chi2 = {chi2:.2f}\")\n",
    "print(f\"P-Value: {p:.4f}\")\n",
    "\n",
    "#Decision based on significance level (alpha = 0.05)\n",
    "alpha = 0.5\n",
    "if p < alpha:\n",
    "\tprint(\"Reject the null hypothesis: The training had a significant effect on student perfomance\")\n",
    "else:\n",
    "\tprint(\"Fail to reject the null hypothesis: No significant improvement after training.\")"
   ]
  },
  {
   "cell_type": "code",
   "execution_count": 1,
   "id": "52cebaf6",
   "metadata": {},
   "outputs": [
    {
     "name": "stdout",
     "output_type": "stream",
     "text": [
      "T-Statistic: -7.2702\n",
      "P-Value: 0.0000\n",
      "Reject the null hypothesis: There is a significant difference in height between the two classes.\n"
     ]
    }
   ],
   "source": [
    "#Let us consider an example, we are given two-sample data, each containing heights of 15 students of a class.\n",
    "#We need to check whether two different class students have the same mean height.\n",
    "\n",
    "#method 1\n",
    "import numpy as np\n",
    "import scipy.stats as stats\n",
    "\n",
    "#Height of 15 students from two different classes\n",
    "class1_heights = [150, 152, 149, 155, 158, 160, 157, 159, 161, 162, 163, 164, 165, 166, 167]\n",
    "class2_heights = [165, 167, 168, 169, 170, 171, 172, 173, 174, 175, 176, 177, 178, 179, 180]\n",
    "\n",
    "#Performing Independent Two-Sample T-Test\n",
    "t_stat, p_value = stats.ttest_ind(class1_heights, class2_heights)\n",
    "\n",
    "#Display results\n",
    "print(f\"T-Statistic: {t_stat:.4f}\")\n",
    "print(f\"P-Value: {p_value:.4f}\")\n",
    "\n",
    "#Decision based on significance level\n",
    "alpha = 0.05\n",
    "if p_value < alpha:\n",
    "    print(\"Reject the null hypothesis: There is a significant difference in height between the two classes.\")\n",
    "else:\n",
    "    print(\"Fail to reject the null hypothesis: There is no significant difference in height between the two classes.\")"
   ]
  },
  {
   "cell_type": "code",
   "execution_count": 1,
   "id": "8ee74e82",
   "metadata": {},
   "outputs": [
    {
     "name": "stdout",
     "output_type": "stream",
     "text": [
      "T-Statistic: -0.7925\n",
      "P-Value: 0.4435\n",
      "Fail to reject the null hypothesis: The mean of the areas is not significantly different from 5000.\n"
     ]
    }
   ],
   "source": [
    "#The one-sample t-test is a statistical hypothesis test that can be used to see if the mean of an unknown population differs from a given or known value.\n",
    "#Null Hypothesis: The mean of the areas is 5000.\n",
    "#Alternative Hypothesis: The mean of the areas is not 5000.\n",
    "\n",
    "#One Sample t-test\n",
    "import pandas as pd\n",
    "from scipy.stats import ttest_1samp\n",
    "\n",
    "#Manually inputting the values\n",
    "areas = [1000, 1500, 2300, 3540, 4120, 4560, 5490, 3460, 4750, 2300, 9000, 8600, 7100]\n",
    "\n",
    "#Performing One Sample T-Test\n",
    "t_stat, p_value = ttest_1samp(areas, 5000)\n",
    "\n",
    "#Display results\n",
    "print(f\"T-Statistic: {t_stat:.4f}\")\n",
    "print(f\"P-Value: {p_value:.4f}\")\n",
    "\n",
    "#Decision based on significance level\n",
    "alpha = 0.05\n",
    "if p_value < alpha:\n",
    "    print(\"Reject the null hypothesis: The mean of the areas is significantly different from 5000.\")\n",
    "else:\n",
    "    print(\"Fail to reject the null hypothesis: The mean of the areas is not significantly different from 5000.\")"
   ]
  }
 ],
 "metadata": {
  "kernelspec": {
   "display_name": "Python",
   "language": "python",
   "name": "python3"
  },
  "language_info": {
   "codemirror_mode": {
    "name": "ipython",
    "version": 3
   },
   "file_extension": ".py",
   "mimetype": "text/x-python",
   "name": "python",
   "nbconvert_exporter": "python",
   "pygments_lexer": "ipython3",
   "version": "3.13.1"
  }
 },
 "nbformat": 4,
 "nbformat_minor": 5
}
