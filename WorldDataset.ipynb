{
 "cells": [
  {
   "cell_type": "code",
   "execution_count": 1,
   "id": "63d8fa92",
   "metadata": {},
   "outputs": [
    {
     "name": "stdout",
     "output_type": "stream",
     "text": [
      "Average Salary by Department:\n",
      "Department\n",
      "HR    62500.000000\n",
      "IT    52333.333333\n",
      "Name: Salary, dtype: float64\n"
     ]
    }
   ],
   "source": [
    "import pandas as pd\n",
    "\n",
    "# Create the DataFrame\n",
    "df = pd.DataFrame({\n",
    "    'Department': ['IT', 'HR', 'IT', 'HR', 'IT'],\n",
    "    'Salary': [50000, 60000, 55000, 65000, 52000]\n",
    "})\n",
    "\n",
    "# Group by \"Department\" and calculate the average salary\n",
    "average_salary = df.groupby('Department')['Salary'].mean()\n",
    "print(\"Average Salary by Department:\")\n",
    "print(average_salary)"
   ]
  },
  {
   "cell_type": "code",
   "execution_count": 4,
   "id": "5b117e04",
   "metadata": {},
   "outputs": [
    {
     "name": "stdout",
     "output_type": "stream",
     "text": [
      "  Country/Region  Region        Year  Birth Rate  Business Tax Rate  \\\n",
      "0        Algeria  Africa  01-12-2000       0.020                NaN   \n",
      "1         Angola  Africa  01-12-2000       0.050                NaN   \n",
      "2          Benin  Africa  01-12-2000       0.043                NaN   \n",
      "3       Botswana  Africa  01-12-2000       0.027                NaN   \n",
      "4   Burkina Faso  Africa  01-12-2000       0.046                NaN   \n",
      "\n",
      "   CO2 Emissions  Days to Start Business  Ease of Business  Energy Usage  \\\n",
      "0        87931.0                     NaN               NaN       26998.0   \n",
      "1         9542.0                     NaN               NaN        7499.0   \n",
      "2         1617.0                     NaN               NaN        1983.0   \n",
      "3         4276.0                     NaN               NaN        1836.0   \n",
      "4         1041.0                     NaN               NaN           NaN   \n",
      "\n",
      "            GDP  ...  Life Expectancy Male  Mobile Phone Usage  \\\n",
      "0  5.479006e+10  ...                  67.0               0.003   \n",
      "1  9.129595e+09  ...                  44.0               0.002   \n",
      "2  2.359122e+09  ...                  53.0               0.008   \n",
      "3  5.788312e+09  ...                  49.0               0.127   \n",
      "4  2.610959e+09  ...                  49.0               0.002   \n",
      "\n",
      "   Number of Records  Population 0-14  Population 15-64  Population 65+  \\\n",
      "0                  1            0.342             0.619           0.039   \n",
      "1                  1            0.476             0.499           0.025   \n",
      "2                  1            0.454             0.517           0.029   \n",
      "3                  1            0.383             0.587           0.029   \n",
      "4                  1            0.468             0.505           0.028   \n",
      "\n",
      "   Population Total  Population Urban  Tourism Inbound  Tourism Outbound  \n",
      "0          31719449             0.599      102000000.0       193000000.0  \n",
      "1          13924930             0.324       34000000.0       146000000.0  \n",
      "2           6949366             0.383       77000000.0        50000000.0  \n",
      "3           1755375             0.532      227000000.0       209000000.0  \n",
      "4          11607944             0.178       23000000.0        30000000.0  \n",
      "\n",
      "[5 rows x 27 columns]\n"
     ]
    }
   ],
   "source": [
    "# Load the dataset\n",
    "world_indicator_df = pd.read_csv(f\"/Users/biplavbarua/Downloads/World Indicator dataset (1).csv\")\n",
    "\n",
    "# Display the first few rows of the dataset\n",
    "print(world_indicator_df.head())"
   ]
  },
  {
   "cell_type": "code",
   "execution_count": 7,
   "id": "5e0a8960",
   "metadata": {},
   "outputs": [
    {
     "name": "stdout",
     "output_type": "stream",
     "text": [
      "Correlation between Population and GDP by Region:\n",
      "Region\n",
      "Africa          0.629689\n",
      "Asia            0.524779\n",
      "Europe          0.705252\n",
      "Middle East     0.477118\n",
      "Oceania         0.888828\n",
      "The Americas    0.853516\n",
      "dtype: float64\n"
     ]
    },
    {
     "name": "stderr",
     "output_type": "stream",
     "text": [
      "/var/folders/bw/5tc2sfgd3_dg6w_6rv0h5zq80000gn/T/ipykernel_36321/1008219317.py:2: DeprecationWarning: DataFrameGroupBy.apply operated on the grouping columns. This behavior is deprecated, and in a future version of pandas the grouping columns will be excluded from the operation. Either pass `include_groups=False` to exclude the groupings or explicitly select the grouping columns after groupby to silence this warning.\n",
      "  correlation_by_region = world_indicator_df.groupby('Region').apply(\n"
     ]
    }
   ],
   "source": [
    "# Calculate the correlation between Population and GDP for each region\n",
    "correlation_by_region = world_indicator_df.groupby('Region').apply(\n",
    "    lambda x: x['Population Total'].corr(x['GDP'])\n",
    ")\n",
    "\n",
    "print(\"Correlation between Population and GDP by Region:\")\n",
    "print(correlation_by_region)"
   ]
  },
  {
   "cell_type": "code",
   "execution_count": 9,
   "id": "e4df6c22",
   "metadata": {},
   "outputs": [
    {
     "name": "stdout",
     "output_type": "stream",
     "text": [
      "Aggregated Data by Region:\n",
      "         Region  Population Total           GDP  Life Expectancy Female  \\\n",
      "0        Africa       12171820277  2.403553e+10                    56.0   \n",
      "1          Asia       47829816399  3.841830e+11                    72.0   \n",
      "2        Europe       10421881656  3.566105e+11                    81.0   \n",
      "3   Middle East        2510047535  1.168773e+11                    76.0   \n",
      "4       Oceania         441733092  8.426346e+10                    73.5   \n",
      "5  The Americas       11683828354  4.705943e+11                    76.0   \n",
      "\n",
      "   Life Expectancy Male  \n",
      "0                  54.0  \n",
      "1                  66.0  \n",
      "2                  75.0  \n",
      "3                  73.0  \n",
      "4                  69.0  \n",
      "5                  71.0  \n"
     ]
    }
   ],
   "source": [
    "# Perform aggregation by Region\n",
    "aggregated_data = world_indicator_df.groupby('Region').agg({\n",
    "    'Population Total': 'sum',  # Total population\n",
    "    'GDP': 'mean',        # Average GDP\n",
    "    'Life Expectancy Female': 'median',  # Median Life Expectancy for females\n",
    "    'Life Expectancy Male': 'median'     # Median Life Expectancy for males\n",
    "}).reset_index()\n",
    "\n",
    "print(\"Aggregated Data by Region:\")\n",
    "print(aggregated_data)"
   ]
  },
  {
   "cell_type": "code",
   "execution_count": 11,
   "id": "748212ed",
   "metadata": {},
   "outputs": [
    {
     "name": "stdout",
     "output_type": "stream",
     "text": [
      "Region with the highest population: Asia\n",
      "Region with the highest average GDP: The Americas\n"
     ]
    }
   ],
   "source": [
    "# Identify the region with the highest population\n",
    "highest_population_region = aggregated_data.loc[aggregated_data['Population Total'].idxmax(), 'Region']\n",
    "\n",
    "# Identify the region with the highest average GDP\n",
    "highest_gdp_region = aggregated_data.loc[aggregated_data['GDP'].idxmax(), 'Region']\n",
    "\n",
    "print(f\"Region with the highest population: {highest_population_region}\")\n",
    "print(f\"Region with the highest average GDP: {highest_gdp_region}\")"
   ]
  },
  {
   "cell_type": "code",
   "execution_count": 12,
   "id": "e44fbf4c",
   "metadata": {},
   "outputs": [
    {
     "name": "stdout",
     "output_type": "stream",
     "text": [
      "T-statistic: nan\n",
      "P-value: nan\n",
      "Fail to reject the null hypothesis: No significant difference in average GDPs of the two regions.\n"
     ]
    },
    {
     "name": "stderr",
     "output_type": "stream",
     "text": [
      "/Users/biplavbarua/Developer/Python Codes/Python/lib/python3.13/site-packages/scipy/_lib/deprecation.py:234: SmallSampleWarning: One or more sample arguments is too small; all returned values will be NaN. See documentation for sample size requirements.\n",
      "  return f(*args, **kwargs)\n"
     ]
    }
   ],
   "source": [
    "from scipy.stats import ttest_ind\n",
    "\n",
    "# Select two regions for comparison\n",
    "region1 = 'Region1'  # Replace with actual region name\n",
    "region2 = 'Region2'  # Replace with actual region name\n",
    "\n",
    "# Filter the data for the two regions\n",
    "region1_gdp = world_indicator_df[world_indicator_df['Region'] == region1]['GDP']\n",
    "region2_gdp = world_indicator_df[world_indicator_df['Region'] == region2]['GDP']\n",
    "\n",
    "# Perform a two-sample t-test\n",
    "t_stat, p_value = ttest_ind(region1_gdp, region2_gdp, nan_policy='omit')\n",
    "\n",
    "print(f\"T-statistic: {t_stat}\")\n",
    "print(f\"P-value: {p_value}\")\n",
    "\n",
    "# Interpret the results\n",
    "alpha = 0.05\n",
    "if p_value < alpha:\n",
    "    print(\"Reject the null hypothesis: The average GDPs of the two regions are significantly different.\")\n",
    "else:\n",
    "    print(\"Fail to reject the null hypothesis: No significant difference in average GDPs of the two regions.\")"
   ]
  }
 ],
 "metadata": {
  "kernelspec": {
   "display_name": "Python",
   "language": "python",
   "name": "python3"
  },
  "language_info": {
   "codemirror_mode": {
    "name": "ipython",
    "version": 3
   },
   "file_extension": ".py",
   "mimetype": "text/x-python",
   "name": "python",
   "nbconvert_exporter": "python",
   "pygments_lexer": "ipython3",
   "version": "3.13.1"
  }
 },
 "nbformat": 4,
 "nbformat_minor": 5
}
